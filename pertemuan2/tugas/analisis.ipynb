{
 "cells": [
  {
   "cell_type": "code",
   "execution_count": 2,
   "id": "6b95168b",
   "metadata": {},
   "outputs": [
    {
     "data": {
      "text/html": [
       "<div>\n",
       "<style scoped>\n",
       "    .dataframe tbody tr th:only-of-type {\n",
       "        vertical-align: middle;\n",
       "    }\n",
       "\n",
       "    .dataframe tbody tr th {\n",
       "        vertical-align: top;\n",
       "    }\n",
       "\n",
       "    .dataframe thead th {\n",
       "        text-align: right;\n",
       "    }\n",
       "</style>\n",
       "<table border=\"1\" class=\"dataframe\">\n",
       "  <thead>\n",
       "    <tr style=\"text-align: right;\">\n",
       "      <th></th>\n",
       "      <th>ID</th>\n",
       "      <th>Nama</th>\n",
       "      <th>Usia</th>\n",
       "      <th>Kota</th>\n",
       "      <th>Pendapatan</th>\n",
       "      <th>Status</th>\n",
       "      <th>Tanggal Daftar</th>\n",
       "    </tr>\n",
       "  </thead>\n",
       "  <tbody>\n",
       "    <tr>\n",
       "      <th>1</th>\n",
       "      <td>118</td>\n",
       "      <td>Pengguna_118</td>\n",
       "      <td>51</td>\n",
       "      <td>Yogyakarta</td>\n",
       "      <td>9819256</td>\n",
       "      <td>Aktif</td>\n",
       "      <td>2023-06-26</td>\n",
       "    </tr>\n",
       "    <tr>\n",
       "      <th>2</th>\n",
       "      <td>29</td>\n",
       "      <td>Pengguna_29</td>\n",
       "      <td>37</td>\n",
       "      <td>Jakarta</td>\n",
       "      <td>4991886</td>\n",
       "      <td>Aktif</td>\n",
       "      <td>2023-07-20</td>\n",
       "    </tr>\n",
       "    <tr>\n",
       "      <th>3</th>\n",
       "      <td>119</td>\n",
       "      <td>Pengguna_119</td>\n",
       "      <td>31</td>\n",
       "      <td>Medan</td>\n",
       "      <td>19094979</td>\n",
       "      <td>Aktif</td>\n",
       "      <td>2023-05-17</td>\n",
       "    </tr>\n",
       "    <tr>\n",
       "      <th>4</th>\n",
       "      <td>44</td>\n",
       "      <td>Pengguna_44</td>\n",
       "      <td>54</td>\n",
       "      <td>Makassar</td>\n",
       "      <td>15843052</td>\n",
       "      <td>Tidak Aktif</td>\n",
       "      <td>2023-05-10</td>\n",
       "    </tr>\n",
       "    <tr>\n",
       "      <th>5</th>\n",
       "      <td>124</td>\n",
       "      <td>Pengguna_124</td>\n",
       "      <td>26</td>\n",
       "      <td>Bandung</td>\n",
       "      <td>86377074</td>\n",
       "      <td>Pending</td>\n",
       "      <td>2023-05-05</td>\n",
       "    </tr>\n",
       "  </tbody>\n",
       "</table>\n",
       "</div>"
      ],
      "text/plain": [
       "    ID          Nama  Usia        Kota  Pendapatan       Status Tanggal Daftar\n",
       "1  118  Pengguna_118    51  Yogyakarta     9819256        Aktif     2023-06-26\n",
       "2   29   Pengguna_29    37     Jakarta     4991886        Aktif     2023-07-20\n",
       "3  119  Pengguna_119    31       Medan    19094979        Aktif     2023-05-17\n",
       "4   44   Pengguna_44    54    Makassar    15843052  Tidak Aktif     2023-05-10\n",
       "5  124  Pengguna_124    26     Bandung    86377074      Pending     2023-05-05"
      ]
     },
     "metadata": {},
     "output_type": "display_data"
    }
   ],
   "source": [
    "import pandas as pd\n",
    "\n",
    "df = pd.read_excel(\"contoh_data_bermasalah.xlsx\")\n",
    "\n",
    "#Reset index dan tambahkan 1 untuk membuat index dimulai dari 1\n",
    "df = df.reset_index(drop=True)\n",
    "df.index = df.index + 1\n",
    "\n",
    "#Tampilkan beberapa baris pertama DataFrame untuk memastikan data berhasil dimuat\n",
    "display(df.head())"
   ]
  },
  {
   "cell_type": "code",
   "execution_count": 3,
   "id": "b2b45502",
   "metadata": {},
   "outputs": [
    {
     "name": "stdout",
     "output_type": "stream",
     "text": [
      "Ukuran Dataset (baris, kolom) :  (160, 7)\n",
      "Jumlah total elemen dalam dataset :  1120\n"
     ]
    }
   ],
   "source": [
    "#Mengecek ukuran dataset (jumlah baris dan kolom)\n",
    "print(\"Ukuran Dataset (baris, kolom) : \", df.shape)\n",
    "\n",
    "#Mengecek jumlah total elemen dalam dataset\n",
    "print(\"Jumlah total elemen dalam dataset : \", df.size)"
   ]
  },
  {
   "cell_type": "code",
   "execution_count": 4,
   "id": "366287c8",
   "metadata": {},
   "outputs": [
    {
     "name": "stdout",
     "output_type": "stream",
     "text": [
      "Tipe data my_variable:  <class 'str'>\n",
      "Tipe data my_number:  <class 'int'>\n",
      "\n",
      "Tipe data dari setiap kolom dalam DataFrame:\n",
      "ID                         int64\n",
      "Nama                      object\n",
      "Usia                       int64\n",
      "Kota                      object\n",
      "Pendapatan                 int64\n",
      "Status                    object\n",
      "Tanggal Daftar    datetime64[ns]\n",
      "dtype: object\n"
     ]
    }
   ],
   "source": [
    "#Mengecek tipe data dari sebuah variabel\n",
    "my_variable = \"Hello\"\n",
    "print(\"Tipe data my_variable: \", type(my_variable))\n",
    "\n",
    "my_number = 123\n",
    "print(\"Tipe data my_number: \", type(my_number))\n",
    "\n",
    "#Mengecek tipe data dari setiap kolom dalam DataFrame\n",
    "print(\"\\nTipe data dari setiap kolom dalam DataFrame:\")\n",
    "print(df.dtypes)"
   ]
  },
  {
   "cell_type": "code",
   "execution_count": 5,
   "id": "b2e69663",
   "metadata": {},
   "outputs": [
    {
     "name": "stdout",
     "output_type": "stream",
     "text": [
      "Jumlah nilai yang hilang di setiap kolom: \n",
      "ID                 0\n",
      "Nama               0\n",
      "Usia               0\n",
      "Kota               0\n",
      "Pendapatan         0\n",
      "Status            16\n",
      "Tanggal Daftar     0\n",
      "dtype: int64\n"
     ]
    }
   ],
   "source": [
    "missing_values = df.isnull().sum()\n",
    "print(\"Jumlah nilai yang hilang di setiap kolom: \")\n",
    "print(missing_values)"
   ]
  },
  {
   "cell_type": "code",
   "execution_count": 6,
   "id": "580bac64",
   "metadata": {},
   "outputs": [
    {
     "name": "stdout",
     "output_type": "stream",
     "text": [
      "Jumlah baris duplikat: 10\n",
      "\n",
      "Beberapa baris duplikat pertama:\n",
      "     ID          Nama  Usia      Kota  Pendapatan       Status Tanggal Daftar\n",
      "9    49   Pengguna_49    51  Semarang    18099831        Aktif     2023-11-25\n",
      "34   63   Pengguna_63    20  Surabaya    12742482        Aktif     2023-05-02\n",
      "41  146  Pengguna_146    45  Semarang    13493455        Aktif     2023-01-09\n",
      "42    2    Pengguna_2    45   Bandung     9640118  Tidak Aktif     2023-02-10\n",
      "54   89   Pengguna_89    27   Bandung    17464535        Aktif     2023-03-29\n"
     ]
    }
   ],
   "source": [
    "#Hitung jumlah baris duplikat\n",
    "duplicate_rows_count = df.duplicated().sum()\n",
    "\n",
    "#Cetak jumlah baris duplikat\n",
    "print(f\"Jumlah baris duplikat: {duplicate_rows_count}\")\n",
    "\n",
    "#Jika ada baris duplikat, tampilkan beberapa baris duplikat pertama\n",
    "if duplicate_rows_count > 0:\n",
    "    print(\"\\nBeberapa baris duplikat pertama:\")\n",
    "    print(df[df.duplicated(keep=False)].head())"
   ]
  },
  {
   "cell_type": "markdown",
   "id": "a42c41e8",
   "metadata": {},
   "source": [
    "KESIMPULAN\n",
    "1. Duplikat baris Data\n",
    " Data yang berulang bisa bikin bias model/statistik.\n",
    " Biasanya dihapus\n",
    "2. Data yang hilang dikolom status sebanyak 16\n",
    " Kalau ada kolom dengan nilai hilang cukup banyak → bisa menurunkan kualitas analisis.\n",
    " Perlu diputuskan: dihapus atau di-impute.\n",
    "3. Tipe data\n",
    " Misalnya angka disimpan sebagai teks, tanggal masih berupa string.\n",
    " Ini bisa bikin analisis/statistik salah."
   ]
  }
 ],
 "metadata": {
  "kernelspec": {
   "display_name": "Python 3",
   "language": "python",
   "name": "python3"
  },
  "language_info": {
   "codemirror_mode": {
    "name": "ipython",
    "version": 3
   },
   "file_extension": ".py",
   "mimetype": "text/x-python",
   "name": "python",
   "nbconvert_exporter": "python",
   "pygments_lexer": "ipython3",
   "version": "3.13.7"
  }
 },
 "nbformat": 4,
 "nbformat_minor": 5
}
