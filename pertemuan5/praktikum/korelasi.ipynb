{
 "cells": [
  {
   "cell_type": "code",
   "execution_count": 6,
   "id": "fb0a8748",
   "metadata": {},
   "outputs": [
    {
     "data": {
      "text/html": [
       "<div>\n",
       "<style scoped>\n",
       "    .dataframe tbody tr th:only-of-type {\n",
       "        vertical-align: middle;\n",
       "    }\n",
       "\n",
       "    .dataframe tbody tr th {\n",
       "        vertical-align: top;\n",
       "    }\n",
       "\n",
       "    .dataframe thead th {\n",
       "        text-align: right;\n",
       "    }\n",
       "</style>\n",
       "<table border=\"1\" class=\"dataframe\">\n",
       "  <thead>\n",
       "    <tr style=\"text-align: right;\">\n",
       "      <th></th>\n",
       "      <th>ID</th>\n",
       "      <th>Nama</th>\n",
       "      <th>Usia</th>\n",
       "      <th>Kota</th>\n",
       "      <th>Pendapatan</th>\n",
       "      <th>Status</th>\n",
       "      <th>Tanggal Daftar</th>\n",
       "      <th>Tahun_Daftar</th>\n",
       "      <th>Bulan_Daftar</th>\n",
       "      <th>Hari_Daftar</th>\n",
       "    </tr>\n",
       "  </thead>\n",
       "  <tbody>\n",
       "    <tr>\n",
       "      <th>1</th>\n",
       "      <td>118</td>\n",
       "      <td>Pengguna_118</td>\n",
       "      <td>51</td>\n",
       "      <td>yogyakarta</td>\n",
       "      <td>9819256</td>\n",
       "      <td>Aktif</td>\n",
       "      <td>2023-06-26</td>\n",
       "      <td>2023</td>\n",
       "      <td>6</td>\n",
       "      <td>26</td>\n",
       "    </tr>\n",
       "    <tr>\n",
       "      <th>2</th>\n",
       "      <td>29</td>\n",
       "      <td>Pengguna_29</td>\n",
       "      <td>37</td>\n",
       "      <td>jakarta</td>\n",
       "      <td>4991886</td>\n",
       "      <td>Aktif</td>\n",
       "      <td>2023-07-20</td>\n",
       "      <td>2023</td>\n",
       "      <td>7</td>\n",
       "      <td>20</td>\n",
       "    </tr>\n",
       "    <tr>\n",
       "      <th>3</th>\n",
       "      <td>119</td>\n",
       "      <td>Pengguna_119</td>\n",
       "      <td>31</td>\n",
       "      <td>medan</td>\n",
       "      <td>19094979</td>\n",
       "      <td>Aktif</td>\n",
       "      <td>2023-05-17</td>\n",
       "      <td>2023</td>\n",
       "      <td>5</td>\n",
       "      <td>17</td>\n",
       "    </tr>\n",
       "    <tr>\n",
       "      <th>4</th>\n",
       "      <td>44</td>\n",
       "      <td>Pengguna_44</td>\n",
       "      <td>54</td>\n",
       "      <td>makassar</td>\n",
       "      <td>15843052</td>\n",
       "      <td>Tidak Aktif</td>\n",
       "      <td>2023-05-10</td>\n",
       "      <td>2023</td>\n",
       "      <td>5</td>\n",
       "      <td>10</td>\n",
       "    </tr>\n",
       "    <tr>\n",
       "      <th>5</th>\n",
       "      <td>124</td>\n",
       "      <td>Pengguna_124</td>\n",
       "      <td>26</td>\n",
       "      <td>bandung</td>\n",
       "      <td>20000000</td>\n",
       "      <td>Pending</td>\n",
       "      <td>2023-05-05</td>\n",
       "      <td>2023</td>\n",
       "      <td>5</td>\n",
       "      <td>5</td>\n",
       "    </tr>\n",
       "  </tbody>\n",
       "</table>\n",
       "</div>"
      ],
      "text/plain": [
       "    ID          Nama  Usia        Kota  Pendapatan       Status  \\\n",
       "1  118  Pengguna_118    51  yogyakarta     9819256        Aktif   \n",
       "2   29   Pengguna_29    37     jakarta     4991886        Aktif   \n",
       "3  119  Pengguna_119    31       medan    19094979        Aktif   \n",
       "4   44   Pengguna_44    54    makassar    15843052  Tidak Aktif   \n",
       "5  124  Pengguna_124    26     bandung    20000000      Pending   \n",
       "\n",
       "  Tanggal Daftar  Tahun_Daftar  Bulan_Daftar  Hari_Daftar  \n",
       "1     2023-06-26          2023             6           26  \n",
       "2     2023-07-20          2023             7           20  \n",
       "3     2023-05-17          2023             5           17  \n",
       "4     2023-05-10          2023             5           10  \n",
       "5     2023-05-05          2023             5            5  "
      ]
     },
     "metadata": {},
     "output_type": "display_data"
    },
    {
     "name": "stdout",
     "output_type": "stream",
     "text": [
      "Korelasi antara Usia dan Pendapatan: 0.02532547988457472\n",
      "Koefisien determinasi (R-Squared) antara Usia dan Pendapatan: 0.0006413799313839988\n"
     ]
    }
   ],
   "source": [
    "import pandas as pd\n",
    "import matplotlib.pyplot as plt\n",
    "\n",
    "df = pd.read_excel('data_bersih.xlsx')\n",
    "\n",
    "# Reset index dan tambahkan 1 untuk membuat indeks dimulai dari 1\n",
    "df = df.reset_index(drop=True)\n",
    "df.index = df.index + 1\n",
    "\n",
    "# Tampilkan beberapa baris pertama DataFrame untuk memastikan data berhasil dimuat\n",
    "display(df.head())\n",
    "\n",
    "# Menampilkan korelasi antara Usia dan Pendapatan\n",
    "correlation = df['Usia'].corr(df['Pendapatan'])\n",
    "print(f\"Korelasi antara Usia dan Pendapatan: {correlation}\")\n",
    "\n",
    "# Hitung koefisien determinasi (R-squared)\n",
    "r_squared = correlation**2\n",
    "print(f\"Koefisien determinasi (R-Squared) antara Usia dan Pendapatan: {r_squared}\")"
   ]
  },
  {
   "cell_type": "code",
   "execution_count": 5,
   "id": "ae4d19ce",
   "metadata": {},
   "outputs": [
    {
     "data": {
      "image/png": "[encoded data removed]",
      "text/plain": [
       "<Figure size 640x480 with 1 Axes>"
      ]
     },
     "metadata": {},
     "output_type": "display_data"
    }
   ],
   "source": [
    "plt.scatter(df['Usia'], df['Pendapatan'])\n",
    "plt.title(\"Korelasi Usia dan Pendapatan\")\n",
    "plt.xlabel('Usia')\n",
    "plt.ylabel('Pendapatan')\n",
    "plt.grid(True)\n",
    "plt.show()"
   ]
  },
  {
   "cell_type": "code",
   "execution_count": null,
   "id": "5328379b",
   "metadata": {},
   "outputs": [],
   "source": []
  }
 ],
 "metadata": {
  "kernelspec": {
   "display_name": "Python 3",
   "language": "python",
   "name": "python3"
  },
  "language_info": {
   "codemirror_mode": {
    "name": "ipython",
    "version": 3
   },
   "file_extension": ".py",
   "mimetype": "text/x-python",
   "name": "python",
   "nbconvert_exporter": "python",
   "pygments_lexer": "ipython3",
   "version": "3.13.7"
  }
 },
 "nbformat": 4,
 "nbformat_minor": 5
}
